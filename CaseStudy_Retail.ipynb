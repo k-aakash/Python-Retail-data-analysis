{
 "cells": [
  {
   "cell_type": "code",
   "execution_count": 1,
   "id": "bacdb2ea",
   "metadata": {
    "ExecuteTime": {
     "end_time": "2022-09-20T17:20:26.190511Z",
     "start_time": "2022-09-20T17:20:24.024036Z"
    }
   },
   "outputs": [],
   "source": [
    "import numpy as np\n",
    "import pandas as pd\n",
    "import datetime as dt\n",
    "\n",
    "import matplotlib.pyplot as plt\n",
    "%matplotlib inline\n",
    "\n",
    "import seaborn as sns"
   ]
  },
  {
   "cell_type": "markdown",
   "id": "b654b8cc",
   "metadata": {},
   "source": [
    "### Importing data\n",
    "a) Customer           \n",
    "b) Transaction                \n",
    "c) Product Heirarchy"
   ]
  },
  {
   "cell_type": "code",
   "execution_count": 2,
   "id": "c380505c",
   "metadata": {
    "ExecuteTime": {
     "end_time": "2022-09-20T17:20:26.254614Z",
     "start_time": "2022-09-20T17:20:26.194514Z"
    }
   },
   "outputs": [],
   "source": [
    "file_path='D:/Academics/Data Science/AnalytixLabs/Python/Case Studies/Python Foundation Case Study 1 - Retail Case Study/'\n",
    "customer = pd.read_csv( file_path + 'Customer.csv')\n",
    "transaction = pd.read_csv( file_path + 'Transactions.csv')\n",
    "prod_cat_info = pd.read_csv( file_path + 'prod_cat_info.csv')"
   ]
  },
  {
   "cell_type": "markdown",
   "id": "79dbe919",
   "metadata": {},
   "source": [
    "##### Understanding the data:"
   ]
  },
  {
   "cell_type": "code",
   "execution_count": 3,
   "id": "e9b0aebb",
   "metadata": {
    "ExecuteTime": {
     "end_time": "2022-09-20T17:20:26.270504Z",
     "start_time": "2022-09-20T17:20:26.255616Z"
    }
   },
   "outputs": [
    {
     "data": {
      "text/html": [
       "<div>\n",
       "<style scoped>\n",
       "    .dataframe tbody tr th:only-of-type {\n",
       "        vertical-align: middle;\n",
       "    }\n",
       "\n",
       "    .dataframe tbody tr th {\n",
       "        vertical-align: top;\n",
       "    }\n",
       "\n",
       "    .dataframe thead th {\n",
       "        text-align: right;\n",
       "    }\n",
       "</style>\n",
       "<table border=\"1\" class=\"dataframe\">\n",
       "  <thead>\n",
       "    <tr style=\"text-align: right;\">\n",
       "      <th></th>\n",
       "      <th>customer_Id</th>\n",
       "      <th>DOB</th>\n",
       "      <th>Gender</th>\n",
       "      <th>city_code</th>\n",
       "    </tr>\n",
       "  </thead>\n",
       "  <tbody>\n",
       "    <tr>\n",
       "      <th>0</th>\n",
       "      <td>268408</td>\n",
       "      <td>02-01-1970</td>\n",
       "      <td>M</td>\n",
       "      <td>4.0</td>\n",
       "    </tr>\n",
       "    <tr>\n",
       "      <th>1</th>\n",
       "      <td>269696</td>\n",
       "      <td>07-01-1970</td>\n",
       "      <td>F</td>\n",
       "      <td>8.0</td>\n",
       "    </tr>\n",
       "  </tbody>\n",
       "</table>\n",
       "</div>"
      ],
      "text/plain": [
       "   customer_Id         DOB Gender  city_code\n",
       "0       268408  02-01-1970      M        4.0\n",
       "1       269696  07-01-1970      F        8.0"
      ]
     },
     "execution_count": 3,
     "metadata": {},
     "output_type": "execute_result"
    }
   ],
   "source": [
    "customer.head(2)"
   ]
  },
  {
   "cell_type": "code",
   "execution_count": 4,
   "id": "04fb12db",
   "metadata": {
    "ExecuteTime": {
     "end_time": "2022-09-20T17:20:26.301504Z",
     "start_time": "2022-09-20T17:20:26.272502Z"
    }
   },
   "outputs": [
    {
     "name": "stdout",
     "output_type": "stream",
     "text": [
      "<class 'pandas.core.frame.DataFrame'>\n",
      "RangeIndex: 5647 entries, 0 to 5646\n",
      "Data columns (total 4 columns):\n",
      " #   Column       Non-Null Count  Dtype  \n",
      "---  ------       --------------  -----  \n",
      " 0   customer_Id  5647 non-null   int64  \n",
      " 1   DOB          5647 non-null   object \n",
      " 2   Gender       5645 non-null   object \n",
      " 3   city_code    5645 non-null   float64\n",
      "dtypes: float64(1), int64(1), object(2)\n",
      "memory usage: 176.6+ KB\n"
     ]
    }
   ],
   "source": [
    "customer.info()\n",
    "# 'Gender' & 'city_code' columns have 2 NA's "
   ]
  },
  {
   "cell_type": "code",
   "execution_count": 5,
   "id": "bf16f4e5",
   "metadata": {
    "ExecuteTime": {
     "end_time": "2022-09-20T17:20:26.317506Z",
     "start_time": "2022-09-20T17:20:26.304506Z"
    }
   },
   "outputs": [
    {
     "data": {
      "text/html": [
       "<div>\n",
       "<style scoped>\n",
       "    .dataframe tbody tr th:only-of-type {\n",
       "        vertical-align: middle;\n",
       "    }\n",
       "\n",
       "    .dataframe tbody tr th {\n",
       "        vertical-align: top;\n",
       "    }\n",
       "\n",
       "    .dataframe thead th {\n",
       "        text-align: right;\n",
       "    }\n",
       "</style>\n",
       "<table border=\"1\" class=\"dataframe\">\n",
       "  <thead>\n",
       "    <tr style=\"text-align: right;\">\n",
       "      <th></th>\n",
       "      <th>transaction_id</th>\n",
       "      <th>cust_id</th>\n",
       "      <th>tran_date</th>\n",
       "      <th>prod_subcat_code</th>\n",
       "      <th>prod_cat_code</th>\n",
       "      <th>Qty</th>\n",
       "      <th>Rate</th>\n",
       "      <th>Tax</th>\n",
       "      <th>total_amt</th>\n",
       "      <th>Store_type</th>\n",
       "    </tr>\n",
       "  </thead>\n",
       "  <tbody>\n",
       "    <tr>\n",
       "      <th>0</th>\n",
       "      <td>80712190438</td>\n",
       "      <td>270351</td>\n",
       "      <td>28-02-2014</td>\n",
       "      <td>1</td>\n",
       "      <td>1</td>\n",
       "      <td>-5</td>\n",
       "      <td>-772</td>\n",
       "      <td>405.300</td>\n",
       "      <td>-4265.300</td>\n",
       "      <td>e-Shop</td>\n",
       "    </tr>\n",
       "    <tr>\n",
       "      <th>1</th>\n",
       "      <td>29258453508</td>\n",
       "      <td>270384</td>\n",
       "      <td>27-02-2014</td>\n",
       "      <td>5</td>\n",
       "      <td>3</td>\n",
       "      <td>-5</td>\n",
       "      <td>-1497</td>\n",
       "      <td>785.925</td>\n",
       "      <td>-8270.925</td>\n",
       "      <td>e-Shop</td>\n",
       "    </tr>\n",
       "  </tbody>\n",
       "</table>\n",
       "</div>"
      ],
      "text/plain": [
       "   transaction_id  cust_id   tran_date  prod_subcat_code  prod_cat_code  Qty  \\\n",
       "0     80712190438   270351  28-02-2014                 1              1   -5   \n",
       "1     29258453508   270384  27-02-2014                 5              3   -5   \n",
       "\n",
       "   Rate      Tax  total_amt Store_type  \n",
       "0  -772  405.300  -4265.300     e-Shop  \n",
       "1 -1497  785.925  -8270.925     e-Shop  "
      ]
     },
     "execution_count": 5,
     "metadata": {},
     "output_type": "execute_result"
    }
   ],
   "source": [
    "transaction.head(2)"
   ]
  },
  {
   "cell_type": "code",
   "execution_count": 6,
   "id": "a36f9dcb",
   "metadata": {
    "ExecuteTime": {
     "end_time": "2022-09-20T17:20:26.333505Z",
     "start_time": "2022-09-20T17:20:26.319507Z"
    }
   },
   "outputs": [
    {
     "name": "stdout",
     "output_type": "stream",
     "text": [
      "<class 'pandas.core.frame.DataFrame'>\n",
      "RangeIndex: 23053 entries, 0 to 23052\n",
      "Data columns (total 10 columns):\n",
      " #   Column            Non-Null Count  Dtype  \n",
      "---  ------            --------------  -----  \n",
      " 0   transaction_id    23053 non-null  int64  \n",
      " 1   cust_id           23053 non-null  int64  \n",
      " 2   tran_date         23053 non-null  object \n",
      " 3   prod_subcat_code  23053 non-null  int64  \n",
      " 4   prod_cat_code     23053 non-null  int64  \n",
      " 5   Qty               23053 non-null  int64  \n",
      " 6   Rate              23053 non-null  int64  \n",
      " 7   Tax               23053 non-null  float64\n",
      " 8   total_amt         23053 non-null  float64\n",
      " 9   Store_type        23053 non-null  object \n",
      "dtypes: float64(2), int64(6), object(2)\n",
      "memory usage: 1.8+ MB\n"
     ]
    }
   ],
   "source": [
    "transaction.info()"
   ]
  },
  {
   "cell_type": "code",
   "execution_count": 7,
   "id": "98a8a6aa",
   "metadata": {
    "ExecuteTime": {
     "end_time": "2022-09-20T17:20:26.349506Z",
     "start_time": "2022-09-20T17:20:26.334507Z"
    }
   },
   "outputs": [
    {
     "data": {
      "text/html": [
       "<div>\n",
       "<style scoped>\n",
       "    .dataframe tbody tr th:only-of-type {\n",
       "        vertical-align: middle;\n",
       "    }\n",
       "\n",
       "    .dataframe tbody tr th {\n",
       "        vertical-align: top;\n",
       "    }\n",
       "\n",
       "    .dataframe thead th {\n",
       "        text-align: right;\n",
       "    }\n",
       "</style>\n",
       "<table border=\"1\" class=\"dataframe\">\n",
       "  <thead>\n",
       "    <tr style=\"text-align: right;\">\n",
       "      <th></th>\n",
       "      <th>prod_cat_code</th>\n",
       "      <th>prod_cat</th>\n",
       "      <th>prod_sub_cat_code</th>\n",
       "      <th>prod_subcat</th>\n",
       "    </tr>\n",
       "  </thead>\n",
       "  <tbody>\n",
       "    <tr>\n",
       "      <th>0</th>\n",
       "      <td>1</td>\n",
       "      <td>Clothing</td>\n",
       "      <td>4</td>\n",
       "      <td>Mens</td>\n",
       "    </tr>\n",
       "    <tr>\n",
       "      <th>1</th>\n",
       "      <td>1</td>\n",
       "      <td>Clothing</td>\n",
       "      <td>1</td>\n",
       "      <td>Women</td>\n",
       "    </tr>\n",
       "  </tbody>\n",
       "</table>\n",
       "</div>"
      ],
      "text/plain": [
       "   prod_cat_code  prod_cat  prod_sub_cat_code prod_subcat\n",
       "0              1  Clothing                  4        Mens\n",
       "1              1  Clothing                  1       Women"
      ]
     },
     "execution_count": 7,
     "metadata": {},
     "output_type": "execute_result"
    }
   ],
   "source": [
    "prod_cat_info.head(2)"
   ]
  },
  {
   "cell_type": "code",
   "execution_count": 8,
   "id": "a048f085",
   "metadata": {
    "ExecuteTime": {
     "end_time": "2022-09-20T17:20:26.365509Z",
     "start_time": "2022-09-20T17:20:26.350508Z"
    }
   },
   "outputs": [
    {
     "name": "stdout",
     "output_type": "stream",
     "text": [
      "<class 'pandas.core.frame.DataFrame'>\n",
      "RangeIndex: 23 entries, 0 to 22\n",
      "Data columns (total 4 columns):\n",
      " #   Column             Non-Null Count  Dtype \n",
      "---  ------             --------------  ----- \n",
      " 0   prod_cat_code      23 non-null     int64 \n",
      " 1   prod_cat           23 non-null     object\n",
      " 2   prod_sub_cat_code  23 non-null     int64 \n",
      " 3   prod_subcat        23 non-null     object\n",
      "dtypes: int64(2), object(2)\n",
      "memory usage: 864.0+ bytes\n"
     ]
    }
   ],
   "source": [
    "prod_cat_info.info()"
   ]
  },
  {
   "cell_type": "markdown",
   "id": "e52433b7",
   "metadata": {},
   "source": [
    "### Exploratory Data Analysis\n",
    "#### Changing data type of date columns to proper format"
   ]
  },
  {
   "cell_type": "code",
   "execution_count": 9,
   "id": "47209a2e",
   "metadata": {
    "ExecuteTime": {
     "end_time": "2022-09-20T17:20:26.397525Z",
     "start_time": "2022-09-20T17:20:26.366509Z"
    }
   },
   "outputs": [],
   "source": [
    "customer.DOB = pd.to_datetime(customer.DOB, format='%d-%m-%Y')"
   ]
  },
  {
   "cell_type": "code",
   "execution_count": 10,
   "id": "73bca0c0",
   "metadata": {
    "ExecuteTime": {
     "end_time": "2022-09-20T17:20:26.429456Z",
     "start_time": "2022-09-20T17:20:26.400524Z"
    }
   },
   "outputs": [],
   "source": [
    "transaction.tran_date = transaction.tran_date.str.replace(pat='/', repl='-')\n",
    "transaction.tran_date = pd.to_datetime(transaction.tran_date , format='%d-%m-%Y')"
   ]
  },
  {
   "cell_type": "markdown",
   "id": "670d10ab",
   "metadata": {},
   "source": [
    "#### Checking for duplicate entries in data"
   ]
  },
  {
   "cell_type": "code",
   "execution_count": 11,
   "id": "d10547cf",
   "metadata": {
    "ExecuteTime": {
     "end_time": "2022-09-20T17:20:26.445457Z",
     "start_time": "2022-09-20T17:20:26.430457Z"
    }
   },
   "outputs": [
    {
     "data": {
      "text/plain": [
       "0"
      ]
     },
     "execution_count": 11,
     "metadata": {},
     "output_type": "execute_result"
    }
   ],
   "source": [
    "customer.duplicated().sum()\n",
    "# no duplicates"
   ]
  },
  {
   "cell_type": "code",
   "execution_count": 12,
   "id": "f0f2c090",
   "metadata": {
    "ExecuteTime": {
     "end_time": "2022-09-20T17:20:26.460460Z",
     "start_time": "2022-09-20T17:20:26.446459Z"
    }
   },
   "outputs": [
    {
     "data": {
      "text/plain": [
       "0"
      ]
     },
     "execution_count": 12,
     "metadata": {},
     "output_type": "execute_result"
    }
   ],
   "source": [
    "prod_cat_info.duplicated().sum()\n",
    "# no duplicates"
   ]
  },
  {
   "cell_type": "code",
   "execution_count": 13,
   "id": "3e69fa69",
   "metadata": {
    "ExecuteTime": {
     "end_time": "2022-09-20T17:20:26.476462Z",
     "start_time": "2022-09-20T17:20:26.461461Z"
    }
   },
   "outputs": [
    {
     "data": {
      "text/plain": [
       "118"
      ]
     },
     "execution_count": 13,
     "metadata": {},
     "output_type": "execute_result"
    }
   ],
   "source": [
    "# checking for duplicate entries in transactions table ignoring the 'tran_date' column\n",
    "transaction.duplicated(subset=transaction.columns[transaction.columns != 'tran_date']).sum()"
   ]
  },
  {
   "cell_type": "code",
   "execution_count": 14,
   "id": "53ed1a43",
   "metadata": {
    "ExecuteTime": {
     "end_time": "2022-09-20T17:20:26.507558Z",
     "start_time": "2022-09-20T17:20:26.477462Z"
    }
   },
   "outputs": [],
   "source": [
    "# sorting the transactions table in descending order of 'tran_date' to keep the latest transaction on top\n",
    "transaction.sort_values(by='tran_date', ascending=False, inplace=True)\n",
    "\n",
    "# keeping the duplicate transaction row with latest transaction date and discarding older records\n",
    "transaction = transaction.drop_duplicates(subset = transaction.columns[transaction.columns != 'tran_date'],\n",
    "                                          keep='first')"
   ]
  },
  {
   "cell_type": "code",
   "execution_count": 15,
   "id": "56b0045f",
   "metadata": {
    "ExecuteTime": {
     "end_time": "2022-09-20T17:20:26.523557Z",
     "start_time": "2022-09-20T17:20:26.508556Z"
    }
   },
   "outputs": [
    {
     "data": {
      "text/html": [
       "<div>\n",
       "<style scoped>\n",
       "    .dataframe tbody tr th:only-of-type {\n",
       "        vertical-align: middle;\n",
       "    }\n",
       "\n",
       "    .dataframe tbody tr th {\n",
       "        vertical-align: top;\n",
       "    }\n",
       "\n",
       "    .dataframe thead th {\n",
       "        text-align: right;\n",
       "    }\n",
       "</style>\n",
       "<table border=\"1\" class=\"dataframe\">\n",
       "  <thead>\n",
       "    <tr style=\"text-align: right;\">\n",
       "      <th></th>\n",
       "      <th>transaction_id</th>\n",
       "      <th>cust_id</th>\n",
       "      <th>tran_date</th>\n",
       "      <th>prod_subcat_code</th>\n",
       "      <th>prod_cat_code</th>\n",
       "      <th>Qty</th>\n",
       "      <th>Rate</th>\n",
       "      <th>Tax</th>\n",
       "      <th>total_amt</th>\n",
       "      <th>Store_type</th>\n",
       "    </tr>\n",
       "  </thead>\n",
       "  <tbody>\n",
       "    <tr>\n",
       "      <th>0</th>\n",
       "      <td>80712190438</td>\n",
       "      <td>270351</td>\n",
       "      <td>2014-02-28</td>\n",
       "      <td>1</td>\n",
       "      <td>1</td>\n",
       "      <td>-5</td>\n",
       "      <td>-772</td>\n",
       "      <td>405.300</td>\n",
       "      <td>-4265.300</td>\n",
       "      <td>e-Shop</td>\n",
       "    </tr>\n",
       "    <tr>\n",
       "      <th>1</th>\n",
       "      <td>29258453508</td>\n",
       "      <td>270384</td>\n",
       "      <td>2014-02-27</td>\n",
       "      <td>5</td>\n",
       "      <td>3</td>\n",
       "      <td>-5</td>\n",
       "      <td>-1497</td>\n",
       "      <td>785.925</td>\n",
       "      <td>-8270.925</td>\n",
       "      <td>e-Shop</td>\n",
       "    </tr>\n",
       "  </tbody>\n",
       "</table>\n",
       "</div>"
      ],
      "text/plain": [
       "   transaction_id  cust_id  tran_date  prod_subcat_code  prod_cat_code  Qty  \\\n",
       "0     80712190438   270351 2014-02-28                 1              1   -5   \n",
       "1     29258453508   270384 2014-02-27                 5              3   -5   \n",
       "\n",
       "   Rate      Tax  total_amt Store_type  \n",
       "0  -772  405.300  -4265.300     e-Shop  \n",
       "1 -1497  785.925  -8270.925     e-Shop  "
      ]
     },
     "execution_count": 15,
     "metadata": {},
     "output_type": "execute_result"
    }
   ],
   "source": [
    "transaction.head(2)"
   ]
  },
  {
   "cell_type": "markdown",
   "id": "dd501f08",
   "metadata": {},
   "source": [
    "### 1) Merging the dataset"
   ]
  },
  {
   "cell_type": "code",
   "execution_count": 16,
   "id": "c418209a",
   "metadata": {
    "ExecuteTime": {
     "end_time": "2022-09-20T17:20:26.555474Z",
     "start_time": "2022-09-20T17:20:26.524558Z"
    }
   },
   "outputs": [],
   "source": [
    "Customer_Final = pd.merge(left = transaction,\n",
    "                          right = customer,\n",
    "                          how = 'inner',\n",
    "                          left_on = 'cust_id',\n",
    "                          right_on = 'customer_Id')\n",
    "\n",
    "Customer_Final = pd.merge(left = Customer_Final,\n",
    "                          right = prod_cat_info,\n",
    "                          how = 'inner',\n",
    "                          left_on = ['prod_cat_code' , 'prod_subcat_code'],\n",
    "                          right_on = ['prod_cat_code' , 'prod_sub_cat_code'])"
   ]
  },
  {
   "cell_type": "code",
   "execution_count": 17,
   "id": "3b28ef51",
   "metadata": {
    "ExecuteTime": {
     "end_time": "2022-09-20T17:20:26.571476Z",
     "start_time": "2022-09-20T17:20:26.556475Z"
    }
   },
   "outputs": [
    {
     "data": {
      "text/html": [
       "<div>\n",
       "<style scoped>\n",
       "    .dataframe tbody tr th:only-of-type {\n",
       "        vertical-align: middle;\n",
       "    }\n",
       "\n",
       "    .dataframe tbody tr th {\n",
       "        vertical-align: top;\n",
       "    }\n",
       "\n",
       "    .dataframe thead th {\n",
       "        text-align: right;\n",
       "    }\n",
       "</style>\n",
       "<table border=\"1\" class=\"dataframe\">\n",
       "  <thead>\n",
       "    <tr style=\"text-align: right;\">\n",
       "      <th></th>\n",
       "      <th>transaction_id</th>\n",
       "      <th>cust_id</th>\n",
       "      <th>tran_date</th>\n",
       "      <th>prod_subcat_code</th>\n",
       "      <th>prod_cat_code</th>\n",
       "      <th>Qty</th>\n",
       "      <th>Rate</th>\n",
       "      <th>Tax</th>\n",
       "      <th>total_amt</th>\n",
       "      <th>Store_type</th>\n",
       "      <th>customer_Id</th>\n",
       "      <th>DOB</th>\n",
       "      <th>Gender</th>\n",
       "      <th>city_code</th>\n",
       "      <th>prod_cat</th>\n",
       "      <th>prod_sub_cat_code</th>\n",
       "      <th>prod_subcat</th>\n",
       "    </tr>\n",
       "  </thead>\n",
       "  <tbody>\n",
       "    <tr>\n",
       "      <th>0</th>\n",
       "      <td>80712190438</td>\n",
       "      <td>270351</td>\n",
       "      <td>2014-02-28</td>\n",
       "      <td>1</td>\n",
       "      <td>1</td>\n",
       "      <td>-5</td>\n",
       "      <td>-772</td>\n",
       "      <td>405.300</td>\n",
       "      <td>-4265.300</td>\n",
       "      <td>e-Shop</td>\n",
       "      <td>270351</td>\n",
       "      <td>1981-09-26</td>\n",
       "      <td>M</td>\n",
       "      <td>5.0</td>\n",
       "      <td>Clothing</td>\n",
       "      <td>1</td>\n",
       "      <td>Women</td>\n",
       "    </tr>\n",
       "    <tr>\n",
       "      <th>1</th>\n",
       "      <td>80712190438</td>\n",
       "      <td>270351</td>\n",
       "      <td>2014-02-20</td>\n",
       "      <td>1</td>\n",
       "      <td>1</td>\n",
       "      <td>5</td>\n",
       "      <td>772</td>\n",
       "      <td>405.300</td>\n",
       "      <td>4265.300</td>\n",
       "      <td>e-Shop</td>\n",
       "      <td>270351</td>\n",
       "      <td>1981-09-26</td>\n",
       "      <td>M</td>\n",
       "      <td>5.0</td>\n",
       "      <td>Clothing</td>\n",
       "      <td>1</td>\n",
       "      <td>Women</td>\n",
       "    </tr>\n",
       "    <tr>\n",
       "      <th>2</th>\n",
       "      <td>18505840838</td>\n",
       "      <td>271509</td>\n",
       "      <td>2013-12-16</td>\n",
       "      <td>1</td>\n",
       "      <td>1</td>\n",
       "      <td>3</td>\n",
       "      <td>1229</td>\n",
       "      <td>387.135</td>\n",
       "      <td>4074.135</td>\n",
       "      <td>Flagship store</td>\n",
       "      <td>271509</td>\n",
       "      <td>1981-06-08</td>\n",
       "      <td>M</td>\n",
       "      <td>3.0</td>\n",
       "      <td>Clothing</td>\n",
       "      <td>1</td>\n",
       "      <td>Women</td>\n",
       "    </tr>\n",
       "    <tr>\n",
       "      <th>3</th>\n",
       "      <td>92814475704</td>\n",
       "      <td>267750</td>\n",
       "      <td>2013-08-16</td>\n",
       "      <td>1</td>\n",
       "      <td>1</td>\n",
       "      <td>-4</td>\n",
       "      <td>-284</td>\n",
       "      <td>119.280</td>\n",
       "      <td>-1255.280</td>\n",
       "      <td>Flagship store</td>\n",
       "      <td>267750</td>\n",
       "      <td>1986-10-13</td>\n",
       "      <td>M</td>\n",
       "      <td>1.0</td>\n",
       "      <td>Clothing</td>\n",
       "      <td>1</td>\n",
       "      <td>Women</td>\n",
       "    </tr>\n",
       "    <tr>\n",
       "      <th>4</th>\n",
       "      <td>92814475704</td>\n",
       "      <td>267750</td>\n",
       "      <td>2013-08-07</td>\n",
       "      <td>1</td>\n",
       "      <td>1</td>\n",
       "      <td>4</td>\n",
       "      <td>284</td>\n",
       "      <td>119.280</td>\n",
       "      <td>1255.280</td>\n",
       "      <td>Flagship store</td>\n",
       "      <td>267750</td>\n",
       "      <td>1986-10-13</td>\n",
       "      <td>M</td>\n",
       "      <td>1.0</td>\n",
       "      <td>Clothing</td>\n",
       "      <td>1</td>\n",
       "      <td>Women</td>\n",
       "    </tr>\n",
       "  </tbody>\n",
       "</table>\n",
       "</div>"
      ],
      "text/plain": [
       "   transaction_id  cust_id  tran_date  prod_subcat_code  prod_cat_code  Qty  \\\n",
       "0     80712190438   270351 2014-02-28                 1              1   -5   \n",
       "1     80712190438   270351 2014-02-20                 1              1    5   \n",
       "2     18505840838   271509 2013-12-16                 1              1    3   \n",
       "3     92814475704   267750 2013-08-16                 1              1   -4   \n",
       "4     92814475704   267750 2013-08-07                 1              1    4   \n",
       "\n",
       "   Rate      Tax  total_amt      Store_type  customer_Id        DOB Gender  \\\n",
       "0  -772  405.300  -4265.300          e-Shop       270351 1981-09-26      M   \n",
       "1   772  405.300   4265.300          e-Shop       270351 1981-09-26      M   \n",
       "2  1229  387.135   4074.135  Flagship store       271509 1981-06-08      M   \n",
       "3  -284  119.280  -1255.280  Flagship store       267750 1986-10-13      M   \n",
       "4   284  119.280   1255.280  Flagship store       267750 1986-10-13      M   \n",
       "\n",
       "   city_code  prod_cat  prod_sub_cat_code prod_subcat  \n",
       "0        5.0  Clothing                  1       Women  \n",
       "1        5.0  Clothing                  1       Women  \n",
       "2        3.0  Clothing                  1       Women  \n",
       "3        1.0  Clothing                  1       Women  \n",
       "4        1.0  Clothing                  1       Women  "
      ]
     },
     "execution_count": 17,
     "metadata": {},
     "output_type": "execute_result"
    }
   ],
   "source": [
    "Customer_Final.head()"
   ]
  },
  {
   "cell_type": "markdown",
   "id": "83e7b4c5",
   "metadata": {},
   "source": [
    "### 2. Prepare a summary report for the merged dataset\n",
    "### a) Get the column names and their corresponding data types"
   ]
  },
  {
   "cell_type": "code",
   "execution_count": 18,
   "id": "73399ec4",
   "metadata": {
    "ExecuteTime": {
     "end_time": "2022-09-20T17:20:26.635479Z",
     "start_time": "2022-09-20T17:20:26.572476Z"
    }
   },
   "outputs": [
    {
     "name": "stdout",
     "output_type": "stream",
     "text": [
      "<class 'pandas.core.frame.DataFrame'>\n",
      "Int64Index: 22935 entries, 0 to 22934\n",
      "Data columns (total 17 columns):\n",
      " #   Column             Non-Null Count  Dtype         \n",
      "---  ------             --------------  -----         \n",
      " 0   transaction_id     22935 non-null  int64         \n",
      " 1   cust_id            22935 non-null  int64         \n",
      " 2   tran_date          22935 non-null  datetime64[ns]\n",
      " 3   prod_subcat_code   22935 non-null  int64         \n",
      " 4   prod_cat_code      22935 non-null  int64         \n",
      " 5   Qty                22935 non-null  int64         \n",
      " 6   Rate               22935 non-null  int64         \n",
      " 7   Tax                22935 non-null  float64       \n",
      " 8   total_amt          22935 non-null  float64       \n",
      " 9   Store_type         22935 non-null  object        \n",
      " 10  customer_Id        22935 non-null  int64         \n",
      " 11  DOB                22935 non-null  datetime64[ns]\n",
      " 12  Gender             22926 non-null  object        \n",
      " 13  city_code          22927 non-null  float64       \n",
      " 14  prod_cat           22935 non-null  object        \n",
      " 15  prod_sub_cat_code  22935 non-null  int64         \n",
      " 16  prod_subcat        22935 non-null  object        \n",
      "dtypes: datetime64[ns](2), float64(3), int64(8), object(4)\n",
      "memory usage: 3.1+ MB\n"
     ]
    }
   ],
   "source": [
    "Customer_Final.info()"
   ]
  },
  {
   "cell_type": "markdown",
   "id": "48b84eca",
   "metadata": {},
   "source": [
    "#### b) Top/Bottom 10 observations"
   ]
  },
  {
   "cell_type": "code",
   "execution_count": 19,
   "id": "33afaa5e",
   "metadata": {
    "ExecuteTime": {
     "end_time": "2022-09-20T17:20:26.667572Z",
     "start_time": "2022-09-20T17:20:26.636480Z"
    }
   },
   "outputs": [
    {
     "data": {
      "text/html": [
       "<div>\n",
       "<style scoped>\n",
       "    .dataframe tbody tr th:only-of-type {\n",
       "        vertical-align: middle;\n",
       "    }\n",
       "\n",
       "    .dataframe tbody tr th {\n",
       "        vertical-align: top;\n",
       "    }\n",
       "\n",
       "    .dataframe thead th {\n",
       "        text-align: right;\n",
       "    }\n",
       "</style>\n",
       "<table border=\"1\" class=\"dataframe\">\n",
       "  <thead>\n",
       "    <tr style=\"text-align: right;\">\n",
       "      <th></th>\n",
       "      <th>transaction_id</th>\n",
       "      <th>cust_id</th>\n",
       "      <th>tran_date</th>\n",
       "      <th>prod_subcat_code</th>\n",
       "      <th>prod_cat_code</th>\n",
       "      <th>Qty</th>\n",
       "      <th>Rate</th>\n",
       "      <th>Tax</th>\n",
       "      <th>total_amt</th>\n",
       "      <th>Store_type</th>\n",
       "      <th>customer_Id</th>\n",
       "      <th>DOB</th>\n",
       "      <th>Gender</th>\n",
       "      <th>city_code</th>\n",
       "      <th>prod_cat</th>\n",
       "      <th>prod_sub_cat_code</th>\n",
       "      <th>prod_subcat</th>\n",
       "    </tr>\n",
       "  </thead>\n",
       "  <tbody>\n",
       "    <tr>\n",
       "      <th>0</th>\n",
       "      <td>80712190438</td>\n",
       "      <td>270351</td>\n",
       "      <td>2014-02-28</td>\n",
       "      <td>1</td>\n",
       "      <td>1</td>\n",
       "      <td>-5</td>\n",
       "      <td>-772</td>\n",
       "      <td>405.300</td>\n",
       "      <td>-4265.300</td>\n",
       "      <td>e-Shop</td>\n",
       "      <td>270351</td>\n",
       "      <td>1981-09-26</td>\n",
       "      <td>M</td>\n",
       "      <td>5.0</td>\n",
       "      <td>Clothing</td>\n",
       "      <td>1</td>\n",
       "      <td>Women</td>\n",
       "    </tr>\n",
       "    <tr>\n",
       "      <th>1</th>\n",
       "      <td>80712190438</td>\n",
       "      <td>270351</td>\n",
       "      <td>2014-02-20</td>\n",
       "      <td>1</td>\n",
       "      <td>1</td>\n",
       "      <td>5</td>\n",
       "      <td>772</td>\n",
       "      <td>405.300</td>\n",
       "      <td>4265.300</td>\n",
       "      <td>e-Shop</td>\n",
       "      <td>270351</td>\n",
       "      <td>1981-09-26</td>\n",
       "      <td>M</td>\n",
       "      <td>5.0</td>\n",
       "      <td>Clothing</td>\n",
       "      <td>1</td>\n",
       "      <td>Women</td>\n",
       "    </tr>\n",
       "    <tr>\n",
       "      <th>2</th>\n",
       "      <td>18505840838</td>\n",
       "      <td>271509</td>\n",
       "      <td>2013-12-16</td>\n",
       "      <td>1</td>\n",
       "      <td>1</td>\n",
       "      <td>3</td>\n",
       "      <td>1229</td>\n",
       "      <td>387.135</td>\n",
       "      <td>4074.135</td>\n",
       "      <td>Flagship store</td>\n",
       "      <td>271509</td>\n",
       "      <td>1981-06-08</td>\n",
       "      <td>M</td>\n",
       "      <td>3.0</td>\n",
       "      <td>Clothing</td>\n",
       "      <td>1</td>\n",
       "      <td>Women</td>\n",
       "    </tr>\n",
       "    <tr>\n",
       "      <th>3</th>\n",
       "      <td>92814475704</td>\n",
       "      <td>267750</td>\n",
       "      <td>2013-08-16</td>\n",
       "      <td>1</td>\n",
       "      <td>1</td>\n",
       "      <td>-4</td>\n",
       "      <td>-284</td>\n",
       "      <td>119.280</td>\n",
       "      <td>-1255.280</td>\n",
       "      <td>Flagship store</td>\n",
       "      <td>267750</td>\n",
       "      <td>1986-10-13</td>\n",
       "      <td>M</td>\n",
       "      <td>1.0</td>\n",
       "      <td>Clothing</td>\n",
       "      <td>1</td>\n",
       "      <td>Women</td>\n",
       "    </tr>\n",
       "    <tr>\n",
       "      <th>4</th>\n",
       "      <td>92814475704</td>\n",
       "      <td>267750</td>\n",
       "      <td>2013-08-07</td>\n",
       "      <td>1</td>\n",
       "      <td>1</td>\n",
       "      <td>4</td>\n",
       "      <td>284</td>\n",
       "      <td>119.280</td>\n",
       "      <td>1255.280</td>\n",
       "      <td>Flagship store</td>\n",
       "      <td>267750</td>\n",
       "      <td>1986-10-13</td>\n",
       "      <td>M</td>\n",
       "      <td>1.0</td>\n",
       "      <td>Clothing</td>\n",
       "      <td>1</td>\n",
       "      <td>Women</td>\n",
       "    </tr>\n",
       "    <tr>\n",
       "      <th>5</th>\n",
       "      <td>4737317330</td>\n",
       "      <td>269345</td>\n",
       "      <td>2011-07-29</td>\n",
       "      <td>1</td>\n",
       "      <td>1</td>\n",
       "      <td>5</td>\n",
       "      <td>1141</td>\n",
       "      <td>599.025</td>\n",
       "      <td>6304.025</td>\n",
       "      <td>MBR</td>\n",
       "      <td>269345</td>\n",
       "      <td>1970-06-26</td>\n",
       "      <td>F</td>\n",
       "      <td>10.0</td>\n",
       "      <td>Clothing</td>\n",
       "      <td>1</td>\n",
       "      <td>Women</td>\n",
       "    </tr>\n",
       "    <tr>\n",
       "      <th>6</th>\n",
       "      <td>90501340928</td>\n",
       "      <td>271817</td>\n",
       "      <td>2012-02-19</td>\n",
       "      <td>1</td>\n",
       "      <td>1</td>\n",
       "      <td>1</td>\n",
       "      <td>1122</td>\n",
       "      <td>117.810</td>\n",
       "      <td>1239.810</td>\n",
       "      <td>TeleShop</td>\n",
       "      <td>271817</td>\n",
       "      <td>1989-12-24</td>\n",
       "      <td>M</td>\n",
       "      <td>8.0</td>\n",
       "      <td>Clothing</td>\n",
       "      <td>1</td>\n",
       "      <td>Women</td>\n",
       "    </tr>\n",
       "    <tr>\n",
       "      <th>7</th>\n",
       "      <td>35030444164</td>\n",
       "      <td>268129</td>\n",
       "      <td>2011-11-18</td>\n",
       "      <td>1</td>\n",
       "      <td>1</td>\n",
       "      <td>5</td>\n",
       "      <td>1047</td>\n",
       "      <td>549.675</td>\n",
       "      <td>5784.675</td>\n",
       "      <td>MBR</td>\n",
       "      <td>268129</td>\n",
       "      <td>1982-08-07</td>\n",
       "      <td>F</td>\n",
       "      <td>9.0</td>\n",
       "      <td>Clothing</td>\n",
       "      <td>1</td>\n",
       "      <td>Women</td>\n",
       "    </tr>\n",
       "    <tr>\n",
       "      <th>8</th>\n",
       "      <td>99335419136</td>\n",
       "      <td>268755</td>\n",
       "      <td>2012-12-13</td>\n",
       "      <td>1</td>\n",
       "      <td>1</td>\n",
       "      <td>3</td>\n",
       "      <td>1181</td>\n",
       "      <td>372.015</td>\n",
       "      <td>3915.015</td>\n",
       "      <td>e-Shop</td>\n",
       "      <td>268755</td>\n",
       "      <td>1984-07-15</td>\n",
       "      <td>F</td>\n",
       "      <td>8.0</td>\n",
       "      <td>Clothing</td>\n",
       "      <td>1</td>\n",
       "      <td>Women</td>\n",
       "    </tr>\n",
       "    <tr>\n",
       "      <th>9</th>\n",
       "      <td>44425889101</td>\n",
       "      <td>274987</td>\n",
       "      <td>2012-03-18</td>\n",
       "      <td>1</td>\n",
       "      <td>1</td>\n",
       "      <td>4</td>\n",
       "      <td>897</td>\n",
       "      <td>376.740</td>\n",
       "      <td>3964.740</td>\n",
       "      <td>Flagship store</td>\n",
       "      <td>274987</td>\n",
       "      <td>1983-10-08</td>\n",
       "      <td>M</td>\n",
       "      <td>2.0</td>\n",
       "      <td>Clothing</td>\n",
       "      <td>1</td>\n",
       "      <td>Women</td>\n",
       "    </tr>\n",
       "  </tbody>\n",
       "</table>\n",
       "</div>"
      ],
      "text/plain": [
       "   transaction_id  cust_id  tran_date  prod_subcat_code  prod_cat_code  Qty  \\\n",
       "0     80712190438   270351 2014-02-28                 1              1   -5   \n",
       "1     80712190438   270351 2014-02-20                 1              1    5   \n",
       "2     18505840838   271509 2013-12-16                 1              1    3   \n",
       "3     92814475704   267750 2013-08-16                 1              1   -4   \n",
       "4     92814475704   267750 2013-08-07                 1              1    4   \n",
       "5      4737317330   269345 2011-07-29                 1              1    5   \n",
       "6     90501340928   271817 2012-02-19                 1              1    1   \n",
       "7     35030444164   268129 2011-11-18                 1              1    5   \n",
       "8     99335419136   268755 2012-12-13                 1              1    3   \n",
       "9     44425889101   274987 2012-03-18                 1              1    4   \n",
       "\n",
       "   Rate      Tax  total_amt      Store_type  customer_Id        DOB Gender  \\\n",
       "0  -772  405.300  -4265.300          e-Shop       270351 1981-09-26      M   \n",
       "1   772  405.300   4265.300          e-Shop       270351 1981-09-26      M   \n",
       "2  1229  387.135   4074.135  Flagship store       271509 1981-06-08      M   \n",
       "3  -284  119.280  -1255.280  Flagship store       267750 1986-10-13      M   \n",
       "4   284  119.280   1255.280  Flagship store       267750 1986-10-13      M   \n",
       "5  1141  599.025   6304.025             MBR       269345 1970-06-26      F   \n",
       "6  1122  117.810   1239.810        TeleShop       271817 1989-12-24      M   \n",
       "7  1047  549.675   5784.675             MBR       268129 1982-08-07      F   \n",
       "8  1181  372.015   3915.015          e-Shop       268755 1984-07-15      F   \n",
       "9   897  376.740   3964.740  Flagship store       274987 1983-10-08      M   \n",
       "\n",
       "   city_code  prod_cat  prod_sub_cat_code prod_subcat  \n",
       "0        5.0  Clothing                  1       Women  \n",
       "1        5.0  Clothing                  1       Women  \n",
       "2        3.0  Clothing                  1       Women  \n",
       "3        1.0  Clothing                  1       Women  \n",
       "4        1.0  Clothing                  1       Women  \n",
       "5       10.0  Clothing                  1       Women  \n",
       "6        8.0  Clothing                  1       Women  \n",
       "7        9.0  Clothing                  1       Women  \n",
       "8        8.0  Clothing                  1       Women  \n",
       "9        2.0  Clothing                  1       Women  "
      ]
     },
     "execution_count": 19,
     "metadata": {},
     "output_type": "execute_result"
    }
   ],
   "source": [
    "Customer_Final.head(10)"
   ]
  },
  {
   "cell_type": "code",
   "execution_count": 20,
   "id": "513e0ad0",
   "metadata": {
    "ExecuteTime": {
     "end_time": "2022-09-20T17:20:26.699577Z",
     "start_time": "2022-09-20T17:20:26.668572Z"
    }
   },
   "outputs": [
    {
     "data": {
      "text/html": [
       "<div>\n",
       "<style scoped>\n",
       "    .dataframe tbody tr th:only-of-type {\n",
       "        vertical-align: middle;\n",
       "    }\n",
       "\n",
       "    .dataframe tbody tr th {\n",
       "        vertical-align: top;\n",
       "    }\n",
       "\n",
       "    .dataframe thead th {\n",
       "        text-align: right;\n",
       "    }\n",
       "</style>\n",
       "<table border=\"1\" class=\"dataframe\">\n",
       "  <thead>\n",
       "    <tr style=\"text-align: right;\">\n",
       "      <th></th>\n",
       "      <th>transaction_id</th>\n",
       "      <th>cust_id</th>\n",
       "      <th>tran_date</th>\n",
       "      <th>prod_subcat_code</th>\n",
       "      <th>prod_cat_code</th>\n",
       "      <th>Qty</th>\n",
       "      <th>Rate</th>\n",
       "      <th>Tax</th>\n",
       "      <th>total_amt</th>\n",
       "      <th>Store_type</th>\n",
       "      <th>customer_Id</th>\n",
       "      <th>DOB</th>\n",
       "      <th>Gender</th>\n",
       "      <th>city_code</th>\n",
       "      <th>prod_cat</th>\n",
       "      <th>prod_sub_cat_code</th>\n",
       "      <th>prod_subcat</th>\n",
       "    </tr>\n",
       "  </thead>\n",
       "  <tbody>\n",
       "    <tr>\n",
       "      <th>22925</th>\n",
       "      <td>80394789005</td>\n",
       "      <td>270102</td>\n",
       "      <td>2011-08-05</td>\n",
       "      <td>10</td>\n",
       "      <td>6</td>\n",
       "      <td>1</td>\n",
       "      <td>687</td>\n",
       "      <td>72.135</td>\n",
       "      <td>759.135</td>\n",
       "      <td>TeleShop</td>\n",
       "      <td>270102</td>\n",
       "      <td>1981-11-03</td>\n",
       "      <td>M</td>\n",
       "      <td>7.0</td>\n",
       "      <td>Home and kitchen</td>\n",
       "      <td>10</td>\n",
       "      <td>Kitchen</td>\n",
       "    </tr>\n",
       "    <tr>\n",
       "      <th>22926</th>\n",
       "      <td>10097970933</td>\n",
       "      <td>268287</td>\n",
       "      <td>2011-06-26</td>\n",
       "      <td>10</td>\n",
       "      <td>6</td>\n",
       "      <td>2</td>\n",
       "      <td>261</td>\n",
       "      <td>54.810</td>\n",
       "      <td>576.810</td>\n",
       "      <td>TeleShop</td>\n",
       "      <td>268287</td>\n",
       "      <td>1979-02-01</td>\n",
       "      <td>M</td>\n",
       "      <td>2.0</td>\n",
       "      <td>Home and kitchen</td>\n",
       "      <td>10</td>\n",
       "      <td>Kitchen</td>\n",
       "    </tr>\n",
       "    <tr>\n",
       "      <th>22927</th>\n",
       "      <td>61518095737</td>\n",
       "      <td>268287</td>\n",
       "      <td>2011-05-10</td>\n",
       "      <td>10</td>\n",
       "      <td>6</td>\n",
       "      <td>3</td>\n",
       "      <td>611</td>\n",
       "      <td>192.465</td>\n",
       "      <td>2025.465</td>\n",
       "      <td>e-Shop</td>\n",
       "      <td>268287</td>\n",
       "      <td>1979-02-01</td>\n",
       "      <td>M</td>\n",
       "      <td>2.0</td>\n",
       "      <td>Home and kitchen</td>\n",
       "      <td>10</td>\n",
       "      <td>Kitchen</td>\n",
       "    </tr>\n",
       "    <tr>\n",
       "      <th>22928</th>\n",
       "      <td>58258824183</td>\n",
       "      <td>272877</td>\n",
       "      <td>2011-02-08</td>\n",
       "      <td>10</td>\n",
       "      <td>6</td>\n",
       "      <td>5</td>\n",
       "      <td>95</td>\n",
       "      <td>49.875</td>\n",
       "      <td>524.875</td>\n",
       "      <td>e-Shop</td>\n",
       "      <td>272877</td>\n",
       "      <td>1989-08-22</td>\n",
       "      <td>F</td>\n",
       "      <td>5.0</td>\n",
       "      <td>Home and kitchen</td>\n",
       "      <td>10</td>\n",
       "      <td>Kitchen</td>\n",
       "    </tr>\n",
       "    <tr>\n",
       "      <th>22929</th>\n",
       "      <td>38432487071</td>\n",
       "      <td>270837</td>\n",
       "      <td>2011-06-13</td>\n",
       "      <td>10</td>\n",
       "      <td>6</td>\n",
       "      <td>2</td>\n",
       "      <td>1009</td>\n",
       "      <td>211.890</td>\n",
       "      <td>2229.890</td>\n",
       "      <td>Flagship store</td>\n",
       "      <td>270837</td>\n",
       "      <td>1990-01-09</td>\n",
       "      <td>F</td>\n",
       "      <td>8.0</td>\n",
       "      <td>Home and kitchen</td>\n",
       "      <td>10</td>\n",
       "      <td>Kitchen</td>\n",
       "    </tr>\n",
       "    <tr>\n",
       "      <th>22930</th>\n",
       "      <td>60156894486</td>\n",
       "      <td>272374</td>\n",
       "      <td>2011-05-20</td>\n",
       "      <td>10</td>\n",
       "      <td>6</td>\n",
       "      <td>3</td>\n",
       "      <td>691</td>\n",
       "      <td>217.665</td>\n",
       "      <td>2290.665</td>\n",
       "      <td>TeleShop</td>\n",
       "      <td>272374</td>\n",
       "      <td>1990-06-09</td>\n",
       "      <td>F</td>\n",
       "      <td>8.0</td>\n",
       "      <td>Home and kitchen</td>\n",
       "      <td>10</td>\n",
       "      <td>Kitchen</td>\n",
       "    </tr>\n",
       "    <tr>\n",
       "      <th>22931</th>\n",
       "      <td>11626435009</td>\n",
       "      <td>269610</td>\n",
       "      <td>2011-04-21</td>\n",
       "      <td>10</td>\n",
       "      <td>6</td>\n",
       "      <td>-3</td>\n",
       "      <td>-996</td>\n",
       "      <td>313.740</td>\n",
       "      <td>-3301.740</td>\n",
       "      <td>e-Shop</td>\n",
       "      <td>269610</td>\n",
       "      <td>1977-11-11</td>\n",
       "      <td>M</td>\n",
       "      <td>2.0</td>\n",
       "      <td>Home and kitchen</td>\n",
       "      <td>10</td>\n",
       "      <td>Kitchen</td>\n",
       "    </tr>\n",
       "    <tr>\n",
       "      <th>22932</th>\n",
       "      <td>11626435009</td>\n",
       "      <td>269610</td>\n",
       "      <td>2011-04-17</td>\n",
       "      <td>10</td>\n",
       "      <td>6</td>\n",
       "      <td>3</td>\n",
       "      <td>996</td>\n",
       "      <td>313.740</td>\n",
       "      <td>3301.740</td>\n",
       "      <td>e-Shop</td>\n",
       "      <td>269610</td>\n",
       "      <td>1977-11-11</td>\n",
       "      <td>M</td>\n",
       "      <td>2.0</td>\n",
       "      <td>Home and kitchen</td>\n",
       "      <td>10</td>\n",
       "      <td>Kitchen</td>\n",
       "    </tr>\n",
       "    <tr>\n",
       "      <th>22933</th>\n",
       "      <td>40760855337</td>\n",
       "      <td>268517</td>\n",
       "      <td>2011-03-31</td>\n",
       "      <td>10</td>\n",
       "      <td>6</td>\n",
       "      <td>5</td>\n",
       "      <td>503</td>\n",
       "      <td>264.075</td>\n",
       "      <td>2779.075</td>\n",
       "      <td>Flagship store</td>\n",
       "      <td>268517</td>\n",
       "      <td>1976-12-27</td>\n",
       "      <td>F</td>\n",
       "      <td>4.0</td>\n",
       "      <td>Home and kitchen</td>\n",
       "      <td>10</td>\n",
       "      <td>Kitchen</td>\n",
       "    </tr>\n",
       "    <tr>\n",
       "      <th>22934</th>\n",
       "      <td>20417144530</td>\n",
       "      <td>269556</td>\n",
       "      <td>2011-01-29</td>\n",
       "      <td>10</td>\n",
       "      <td>6</td>\n",
       "      <td>3</td>\n",
       "      <td>654</td>\n",
       "      <td>206.010</td>\n",
       "      <td>2168.010</td>\n",
       "      <td>Flagship store</td>\n",
       "      <td>269556</td>\n",
       "      <td>1972-12-27</td>\n",
       "      <td>M</td>\n",
       "      <td>5.0</td>\n",
       "      <td>Home and kitchen</td>\n",
       "      <td>10</td>\n",
       "      <td>Kitchen</td>\n",
       "    </tr>\n",
       "  </tbody>\n",
       "</table>\n",
       "</div>"
      ],
      "text/plain": [
       "       transaction_id  cust_id  tran_date  prod_subcat_code  prod_cat_code  \\\n",
       "22925     80394789005   270102 2011-08-05                10              6   \n",
       "22926     10097970933   268287 2011-06-26                10              6   \n",
       "22927     61518095737   268287 2011-05-10                10              6   \n",
       "22928     58258824183   272877 2011-02-08                10              6   \n",
       "22929     38432487071   270837 2011-06-13                10              6   \n",
       "22930     60156894486   272374 2011-05-20                10              6   \n",
       "22931     11626435009   269610 2011-04-21                10              6   \n",
       "22932     11626435009   269610 2011-04-17                10              6   \n",
       "22933     40760855337   268517 2011-03-31                10              6   \n",
       "22934     20417144530   269556 2011-01-29                10              6   \n",
       "\n",
       "       Qty  Rate      Tax  total_amt      Store_type  customer_Id        DOB  \\\n",
       "22925    1   687   72.135    759.135        TeleShop       270102 1981-11-03   \n",
       "22926    2   261   54.810    576.810        TeleShop       268287 1979-02-01   \n",
       "22927    3   611  192.465   2025.465          e-Shop       268287 1979-02-01   \n",
       "22928    5    95   49.875    524.875          e-Shop       272877 1989-08-22   \n",
       "22929    2  1009  211.890   2229.890  Flagship store       270837 1990-01-09   \n",
       "22930    3   691  217.665   2290.665        TeleShop       272374 1990-06-09   \n",
       "22931   -3  -996  313.740  -3301.740          e-Shop       269610 1977-11-11   \n",
       "22932    3   996  313.740   3301.740          e-Shop       269610 1977-11-11   \n",
       "22933    5   503  264.075   2779.075  Flagship store       268517 1976-12-27   \n",
       "22934    3   654  206.010   2168.010  Flagship store       269556 1972-12-27   \n",
       "\n",
       "      Gender  city_code          prod_cat  prod_sub_cat_code prod_subcat  \n",
       "22925      M        7.0  Home and kitchen                 10     Kitchen  \n",
       "22926      M        2.0  Home and kitchen                 10     Kitchen  \n",
       "22927      M        2.0  Home and kitchen                 10     Kitchen  \n",
       "22928      F        5.0  Home and kitchen                 10     Kitchen  \n",
       "22929      F        8.0  Home and kitchen                 10     Kitchen  \n",
       "22930      F        8.0  Home and kitchen                 10     Kitchen  \n",
       "22931      M        2.0  Home and kitchen                 10     Kitchen  \n",
       "22932      M        2.0  Home and kitchen                 10     Kitchen  \n",
       "22933      F        4.0  Home and kitchen                 10     Kitchen  \n",
       "22934      M        5.0  Home and kitchen                 10     Kitchen  "
      ]
     },
     "execution_count": 20,
     "metadata": {},
     "output_type": "execute_result"
    }
   ],
   "source": [
    "Customer_Final.tail(10)"
   ]
  },
  {
   "cell_type": "markdown",
   "id": "497a3230",
   "metadata": {},
   "source": [
    "#### c) Five number summary for continuous variables (min, Q1, mean, Q3, max)"
   ]
  },
  {
   "cell_type": "code",
   "execution_count": 21,
   "id": "f03a150d",
   "metadata": {
    "ExecuteTime": {
     "end_time": "2022-09-20T17:20:26.731577Z",
     "start_time": "2022-09-20T17:20:26.700577Z"
    }
   },
   "outputs": [
    {
     "data": {
      "text/html": [
       "<div>\n",
       "<style scoped>\n",
       "    .dataframe tbody tr th:only-of-type {\n",
       "        vertical-align: middle;\n",
       "    }\n",
       "\n",
       "    .dataframe tbody tr th {\n",
       "        vertical-align: top;\n",
       "    }\n",
       "\n",
       "    .dataframe thead th {\n",
       "        text-align: right;\n",
       "    }\n",
       "</style>\n",
       "<table border=\"1\" class=\"dataframe\">\n",
       "  <thead>\n",
       "    <tr style=\"text-align: right;\">\n",
       "      <th></th>\n",
       "      <th>Qty</th>\n",
       "      <th>Rate</th>\n",
       "      <th>Tax</th>\n",
       "      <th>total_amt</th>\n",
       "    </tr>\n",
       "  </thead>\n",
       "  <tbody>\n",
       "    <tr>\n",
       "      <th>Minimum</th>\n",
       "      <td>-5.00</td>\n",
       "      <td>-1499.00</td>\n",
       "      <td>7.35</td>\n",
       "      <td>-8270.925</td>\n",
       "    </tr>\n",
       "    <tr>\n",
       "      <th>First_quartile</th>\n",
       "      <td>1.00</td>\n",
       "      <td>318.00</td>\n",
       "      <td>98.28</td>\n",
       "      <td>777.920</td>\n",
       "    </tr>\n",
       "    <tr>\n",
       "      <th>Average</th>\n",
       "      <td>2.46</td>\n",
       "      <td>643.79</td>\n",
       "      <td>248.62</td>\n",
       "      <td>2132.160</td>\n",
       "    </tr>\n",
       "    <tr>\n",
       "      <th>Third_quartile</th>\n",
       "      <td>4.00</td>\n",
       "      <td>1111.00</td>\n",
       "      <td>365.40</td>\n",
       "      <td>3584.620</td>\n",
       "    </tr>\n",
       "    <tr>\n",
       "      <th>Maximum</th>\n",
       "      <td>5.00</td>\n",
       "      <td>1500.00</td>\n",
       "      <td>787.50</td>\n",
       "      <td>8287.500</td>\n",
       "    </tr>\n",
       "  </tbody>\n",
       "</table>\n",
       "</div>"
      ],
      "text/plain": [
       "                 Qty     Rate     Tax  total_amt\n",
       "Minimum        -5.00 -1499.00    7.35  -8270.925\n",
       "First_quartile  1.00   318.00   98.28    777.920\n",
       "Average         2.46   643.79  248.62   2132.160\n",
       "Third_quartile  4.00  1111.00  365.40   3584.620\n",
       "Maximum         5.00  1500.00  787.50   8287.500"
      ]
     },
     "execution_count": 21,
     "metadata": {},
     "output_type": "execute_result"
    }
   ],
   "source": [
    "def cont_summ(x):\n",
    "    minimum = x.min()\n",
    "    maximum = x.max()\n",
    "    average = round(x.mean(), 2)\n",
    "    Q1 = x.quantile(0.25)\n",
    "    Q3 = x.quantile(0.75)\n",
    "    return(pd.Series(data=[minimum, Q1, average, Q3, maximum],\n",
    "                    index=['Minimum', 'First_quartile', 'Average', 'Third_quartile', 'Maximum']))\n",
    "\n",
    "cont_var = ['Qty', 'Rate', 'Tax', 'total_amt']\n",
    "Customer_Final.loc[:, cont_var].apply(cont_summ)"
   ]
  },
  {
   "cell_type": "markdown",
   "id": "35035b34",
   "metadata": {},
   "source": [
    "#### d) Frequency tables for all the categorical variables"
   ]
  },
  {
   "cell_type": "code",
   "execution_count": 22,
   "id": "9be095c2",
   "metadata": {
    "ExecuteTime": {
     "end_time": "2022-09-20T17:20:26.763579Z",
     "start_time": "2022-09-20T17:20:26.732577Z"
    },
    "scrolled": false
   },
   "outputs": [
    {
     "name": "stdout",
     "output_type": "stream",
     "text": [
      "F    11176\n",
      "M    11750\n",
      "Name: Gender, dtype: int64\n",
      "\n",
      "\n",
      "Flagship store    4552\n",
      "MBR               4640\n",
      "TeleShop          4479\n",
      "e-Shop            9264\n",
      "Name: Store_type, dtype: int64\n",
      "\n",
      "\n",
      "1.0     2246\n",
      "2.0     2262\n",
      "3.0     2400\n",
      "4.0     2415\n",
      "5.0     2347\n",
      "6.0     2118\n",
      "7.0     2339\n",
      "8.0     2313\n",
      "9.0     2164\n",
      "10.0    2323\n",
      "Name: city_code, dtype: int64\n",
      "\n",
      "\n",
      "1    2946\n",
      "2    2980\n",
      "3    4878\n",
      "4    1985\n",
      "5    6039\n",
      "6    4107\n",
      "Name: prod_cat_code, dtype: int64\n",
      "\n",
      "\n",
      "Bags                1985\n",
      "Books               6039\n",
      "Clothing            2946\n",
      "Electronics         4878\n",
      "Footwear            2980\n",
      "Home and kitchen    4107\n",
      "Name: prod_cat, dtype: int64\n",
      "\n",
      "\n",
      "1     2933\n",
      "2     1001\n",
      "3     3048\n",
      "4     3980\n",
      "5      956\n",
      "6      985\n",
      "7     1041\n",
      "8      965\n",
      "9      981\n",
      "10    2984\n",
      "11    2047\n",
      "12    2014\n",
      "Name: prod_subcat_code, dtype: int64\n",
      "\n",
      "\n",
      "Academic                960\n",
      "Audio and video         948\n",
      "Bath                   1017\n",
      "Cameras                 981\n",
      "Children               1030\n",
      "Comics                 1022\n",
      "Computers               956\n",
      "DIY                     985\n",
      "Fiction                1041\n",
      "Furnishing             1001\n",
      "Kids                   1985\n",
      "Kitchen                1035\n",
      "Mens                   2897\n",
      "Mobiles                1028\n",
      "Non-Fiction            1001\n",
      "Personal Appliances     965\n",
      "Tools                  1054\n",
      "Women                  3029\n",
      "Name: prod_subcat, dtype: int64\n",
      "\n",
      "\n"
     ]
    },
    {
     "data": {
      "text/plain": [
       "Gender              None\n",
       "Store_type          None\n",
       "city_code           None\n",
       "prod_cat_code       None\n",
       "prod_cat            None\n",
       "prod_subcat_code    None\n",
       "prod_subcat         None\n",
       "dtype: object"
      ]
     },
     "execution_count": 22,
     "metadata": {},
     "output_type": "execute_result"
    }
   ],
   "source": [
    "def freq_tab(x) :\n",
    "    print(x.value_counts().sort_index())\n",
    "    print('\\n')\n",
    "\n",
    "categ_var = [ 'Gender' , 'Store_type' , 'city_code' ,\n",
    "             'prod_cat_code' , 'prod_cat' , 'prod_subcat_code' , 'prod_subcat']\n",
    "Customer_Final.loc[:,categ_var].apply(freq_tab)"
   ]
  },
  {
   "cell_type": "markdown",
   "id": "20185b1b",
   "metadata": {},
   "source": [
    "### 3) Generate histograms for all continuous variables and frequency bars for categorical variables"
   ]
  },
  {
   "cell_type": "code",
   "execution_count": 23,
   "id": "f23f5605",
   "metadata": {
    "ExecuteTime": {
     "end_time": "2022-09-20T17:20:27.241261Z",
     "start_time": "2022-09-20T17:20:26.764580Z"
    }
   },
   "outputs": [
    {
     "data": {
      "image/png": "[encoded data removed]",
      "text/plain": [
       "<Figure size 1080x576 with 4 Axes>"
      ]
     },
     "metadata": {
      "needs_background": "light"
     },
     "output_type": "display_data"
    }
   ],
   "source": [
    "# Multiple histogram plots for cont variables as subplots\n",
    "fig, axes = plt.subplots(2,2 , figsize=(15,8))\n",
    "c=0\n",
    "for i in range(0,2):\n",
    "    for j in range(0,2):\n",
    "        ax = axes[i][j]\n",
    "        ax.hist(Customer_Final[cont_var[c]])\n",
    "        ax.set_title(cont_var[c])\n",
    "        c += 1"
   ]
  },
  {
   "cell_type": "code",
   "execution_count": 24,
   "id": "fc634750",
   "metadata": {
    "ExecuteTime": {
     "end_time": "2022-09-20T17:20:27.988212Z",
     "start_time": "2022-09-20T17:20:27.242262Z"
    }
   },
   "outputs": [
    {
     "name": "stderr",
     "output_type": "stream",
     "text": [
      "C:\\Users\\User\\AppData\\Local\\Temp/ipykernel_10640/4063470220.py:12: UserWarning: FixedFormatter should only be used together with FixedLocator\n",
      "  ax.set_xticklabels( x_axs, rotation=75)\n"
     ]
    },
    {
     "data": {
      "image/png": "[encoded data removed]",
      "text/plain": [
       "<Figure size 1080x1440 with 7 Axes>"
      ]
     },
     "metadata": {
      "needs_background": "light"
     },
     "output_type": "display_data"
    }
   ],
   "source": [
    "fig, axes = plt.subplots(4,2, figsize=(15,20))\n",
    "c=0     # counter variable to get categorical variable names recursively\n",
    "for i in range(0,4):\n",
    "    for j in range(0,2):\n",
    "        if c < len(categ_var) :          # checking if counter exceeds the number of categorical variables\n",
    "            ax = axes[i][j]\n",
    "            x_axs = Customer_Final.loc[:, categ_var[c]].value_counts().index  # x-axis values for freq bar plot\n",
    "            ax.bar(x = x_axs ,\n",
    "                   height = Customer_Final.loc[:, categ_var[c]].value_counts())\n",
    "            ax.set_title(categ_var[c])\n",
    "            if c==6 :                 # rotate x-axis values for prod_subcat variable\n",
    "                ax.set_xticklabels( x_axs, rotation=75) \n",
    "            c += 1\n",
    "            \n",
    "        else :                        # removing the empty subplot box\n",
    "            fig.delaxes( axes[i][j] ) "
   ]
  },
  {
   "cell_type": "markdown",
   "id": "3dac2053",
   "metadata": {},
   "source": [
    "### 4. Calculate the following information using the merged dataset:\n",
    "#### a) Timeperiod of the available transaction data"
   ]
  },
  {
   "cell_type": "code",
   "execution_count": 25,
   "id": "012cbaa7",
   "metadata": {
    "ExecuteTime": {
     "end_time": "2022-09-20T17:20:28.003215Z",
     "start_time": "2022-09-20T17:20:27.989213Z"
    }
   },
   "outputs": [
    {
     "name": "stdout",
     "output_type": "stream",
     "text": [
      "Oldest transaction date = 25-Jan-2011\n",
      "\n",
      "Latest transaction date = 28-Feb-2014\n",
      "\n",
      "Timeperiod of transaction data = 1130 days 00:00:00\n"
     ]
    }
   ],
   "source": [
    "oldest_date = Customer_Final.tran_date.min()\n",
    "latest_date = Customer_Final.tran_date.max()\n",
    "print('Oldest transaction date = '+ oldest_date.strftime('%d-%b-%Y') + '\\n')\n",
    "print('Latest transaction date = '+ latest_date.strftime('%d-%b-%Y') +'\\n')\n",
    "print('Timeperiod of transaction data = '+ str(latest_date - oldest_date) )"
   ]
  },
  {
   "cell_type": "markdown",
   "id": "a10f8393",
   "metadata": {},
   "source": [
    "#### b) Count of transactions where total amount of transaction was negative"
   ]
  },
  {
   "cell_type": "code",
   "execution_count": 26,
   "id": "fc1265f8",
   "metadata": {
    "ExecuteTime": {
     "end_time": "2022-09-20T17:20:28.018467Z",
     "start_time": "2022-09-20T17:20:28.004215Z"
    }
   },
   "outputs": [
    {
     "data": {
      "text/plain": [
       "2059"
      ]
     },
     "execution_count": 26,
     "metadata": {},
     "output_type": "execute_result"
    }
   ],
   "source": [
    "Customer_Final.total_amt[Customer_Final.total_amt<0].count()"
   ]
  },
  {
   "cell_type": "markdown",
   "id": "54d1a539",
   "metadata": {},
   "source": [
    "### 5. Analyze which product categories are more popular among male vs female consumers"
   ]
  },
  {
   "cell_type": "code",
   "execution_count": 27,
   "id": "2007fd26",
   "metadata": {
    "ExecuteTime": {
     "end_time": "2022-09-20T17:20:28.191475Z",
     "start_time": "2022-09-20T17:20:28.019466Z"
    }
   },
   "outputs": [
    {
     "data": {
      "image/png": "[encoded data removed]",
      "text/plain": [
       "<Figure size 720x432 with 1 Axes>"
      ]
     },
     "metadata": {
      "needs_background": "light"
     },
     "output_type": "display_data"
    }
   ],
   "source": [
    "Customer_Final.pivot_table(index= 'prod_cat', columns= 'Gender',\n",
    "                           values= 'Qty', aggfunc='sum') .plot(kind='bar', rot=0, grid=True, figsize=(10,6))\n",
    "plt.ylabel('Total Quantity Purchased')\n",
    "plt.xlabel('Product Categories')\n",
    "plt.show()"
   ]
  },
  {
   "cell_type": "markdown",
   "id": "72b7ae41",
   "metadata": {},
   "source": [
    "* **`Books`** and **`Electronics`** are the most popular categories among males and females. \n",
    "* For all categories except **`Bags`** and **`Footwear`**, quantity purchased by Males is greater than Females."
   ]
  },
  {
   "cell_type": "markdown",
   "id": "5e99cd0b",
   "metadata": {},
   "source": [
    "### 6. Which city code has the maximum customers and what is the percentage of customer from that city?"
   ]
  },
  {
   "cell_type": "code",
   "execution_count": 28,
   "id": "3a7df42d",
   "metadata": {
    "ExecuteTime": {
     "end_time": "2022-09-20T17:20:28.207479Z",
     "start_time": "2022-09-20T17:20:28.196480Z"
    }
   },
   "outputs": [
    {
     "name": "stdout",
     "output_type": "stream",
     "text": [
      "City code with maximum customers :\n",
      "Float64Index([3.0], dtype='float64', name='city_code') \n",
      "\n",
      "Percentage of customers from the above city code :\n",
      "10.47 %\n"
     ]
    }
   ],
   "source": [
    "# number of unique customers per city in transaction table\n",
    "city_cust_count = Customer_Final.groupby('city_code').cust_id.nunique().sort_values(ascending=False)\n",
    "\n",
    "print('City code with maximum customers :')\n",
    "print(city_cust_count.head(1).index ,'\\n')\n",
    "\n",
    "print('Percentage of customers from the above city code :')\n",
    "print(round( city_cust_count.max() / city_cust_count.sum() * 100 , 2 ) , '%') "
   ]
  },
  {
   "cell_type": "markdown",
   "id": "0f3cbf1b",
   "metadata": {},
   "source": [
    "### 7. Which store type sells the max products by value and by quantity?"
   ]
  },
  {
   "cell_type": "code",
   "execution_count": 29,
   "id": "54748585",
   "metadata": {
    "ExecuteTime": {
     "end_time": "2022-09-20T17:20:28.222482Z",
     "start_time": "2022-09-20T17:20:28.208476Z"
    }
   },
   "outputs": [
    {
     "name": "stdout",
     "output_type": "stream",
     "text": [
      "Store type with highest sales by value:\n",
      "Store_type\n",
      "e-Shop    19940262.03\n",
      "Name: total_amt, dtype: float64 \n",
      "\n",
      "Store type with highest sales by quantity:\n",
      "Store_type\n",
      "e-Shop    22902\n",
      "Name: Qty, dtype: int64\n"
     ]
    }
   ],
   "source": [
    "print('Store type with highest sales by value:')\n",
    "print( Customer_Final.groupby(by='Store_type').total_amt.sum().sort_values(ascending=False).head(1) , '\\n')\n",
    "print('Store type with highest sales by quantity:')\n",
    "print( Customer_Final.groupby(by='Store_type').Qty.sum().sort_values(ascending=False).head(1) )"
   ]
  },
  {
   "cell_type": "markdown",
   "id": "c17195f2",
   "metadata": {},
   "source": [
    "### 8. What was the total amount earned from 'Electronics' and 'Clothing' categories from 'Flagship' stores?"
   ]
  },
  {
   "cell_type": "code",
   "execution_count": 30,
   "id": "34fb1430",
   "metadata": {
    "ExecuteTime": {
     "end_time": "2022-09-20T17:20:28.238482Z",
     "start_time": "2022-09-20T17:20:28.223483Z"
    },
    "scrolled": false
   },
   "outputs": [
    {
     "name": "stdout",
     "output_type": "stream",
     "text": [
      "Total amount earned from both categories : \n",
      " 3428316.645\n",
      "\n",
      "\n",
      "Category wise total amount earned : \n",
      " prod_cat\n",
      "Electronics    2231824.855\n",
      "Clothing       1196491.790\n",
      "Name: total_amt, dtype: float64\n"
     ]
    }
   ],
   "source": [
    "prod_cat_sales = Customer_Final.loc[Customer_Final.Store_type == 'Flagship store', :] \\\n",
    "                        .groupby(by='prod_cat').total_amt.sum()\n",
    "print('Total amount earned from both categories :' , '\\n', prod_cat_sales[['Electronics','Clothing']].sum())\n",
    "print('\\n')\n",
    "print('Category wise total amount earned :','\\n', prod_cat_sales[['Electronics','Clothing']])"
   ]
  },
  {
   "cell_type": "markdown",
   "id": "eb450540",
   "metadata": {},
   "source": [
    "### 9. What is the total amount earned from 'Male' customers under 'Electronics' category"
   ]
  },
  {
   "cell_type": "code",
   "execution_count": 31,
   "id": "91b2dd76",
   "metadata": {
    "ExecuteTime": {
     "end_time": "2022-09-20T17:20:28.254484Z",
     "start_time": "2022-09-20T17:20:28.239483Z"
    }
   },
   "outputs": [
    {
     "data": {
      "text/plain": [
       "5744917.1"
      ]
     },
     "execution_count": 31,
     "metadata": {},
     "output_type": "execute_result"
    }
   ],
   "source": [
    "Customer_Final.loc[(Customer_Final.Gender == 'M') & (Customer_Final.prod_cat == 'Electronics') , 'total_amt'].sum()"
   ]
  },
  {
   "cell_type": "markdown",
   "id": "0394d6bc",
   "metadata": {},
   "source": [
    "### 10. How many customers have more than 10 unique transactions after removing all transactions with negative amounts"
   ]
  },
  {
   "cell_type": "code",
   "execution_count": 32,
   "id": "cc57eb6f",
   "metadata": {
    "ExecuteTime": {
     "end_time": "2022-09-20T17:20:28.286564Z",
     "start_time": "2022-09-20T17:20:28.255482Z"
    }
   },
   "outputs": [
    {
     "name": "stdout",
     "output_type": "stream",
     "text": [
      "List of customers with number of transactions > 10 : \n",
      " cust_id\n",
      "266794    11\n",
      "270535    11\n",
      "270803    11\n",
      "272741    11\n",
      "273014    11\n",
      "274227    11\n",
      "Name: transaction_id, dtype: int64\n",
      "\n",
      " Number of customers with number of transactions > 10 : 6\n"
     ]
    }
   ],
   "source": [
    "cust_trans = Customer_Final.loc[Customer_Final.total_amt > 0 , :].groupby('cust_id').transaction_id.nunique()\n",
    "print( 'List of customers with number of transactions > 10 :', '\\n' , cust_trans[cust_trans>10] )\n",
    "print( '\\n', 'Number of customers with number of transactions > 10 :' , cust_trans[cust_trans>10].count() )"
   ]
  },
  {
   "cell_type": "markdown",
   "id": "b38ce63a",
   "metadata": {},
   "source": [
    "### 11. For all customers aged between 25-35, find out\n",
    "#### a) What was the total amount spent for \"Electronics\" and \"Books\" categories"
   ]
  },
  {
   "cell_type": "code",
   "execution_count": 33,
   "id": "80a3b888",
   "metadata": {
    "ExecuteTime": {
     "end_time": "2022-09-20T17:20:28.317565Z",
     "start_time": "2022-09-20T17:20:28.287562Z"
    }
   },
   "outputs": [
    {
     "data": {
      "text/plain": [
       "10336211.99"
      ]
     },
     "execution_count": 33,
     "metadata": {},
     "output_type": "execute_result"
    }
   ],
   "source": [
    "# Calculating age of Customer as on last transaction date\n",
    "age = (Customer_Final.groupby(by='cust_id').tran_date.max() - Customer_Final.groupby('cust_id').DOB.max()).dt.days / 365.25\n",
    "age = age.reset_index().rename(columns={0:'age'})\n",
    "\n",
    "# Merging the age of customers with the Customer_Final dataframe\n",
    "Customer_Final = pd.merge(left= Customer_Final , right= age, left_on='cust_id', right_on='cust_id', how='left')\n",
    "\n",
    "Customer_Final.loc[(Customer_Final.prod_cat.isin(['Electronics','Books'])) &\n",
    "                   (Customer_Final.age >= 25) & (Customer_Final.age <= 35) , 'total_amt'].sum().round(2)"
   ]
  },
  {
   "cell_type": "markdown",
   "id": "0bfc1277",
   "metadata": {},
   "source": [
    "#### b) What was the total amount spent by these customers between 1st Jan 2014 to 1st Mar 2014"
   ]
  },
  {
   "cell_type": "code",
   "execution_count": 34,
   "id": "74d1683c",
   "metadata": {
    "ExecuteTime": {
     "end_time": "2022-09-20T17:20:28.333565Z",
     "start_time": "2022-09-20T17:20:28.318566Z"
    }
   },
   "outputs": [
    {
     "data": {
      "text/plain": [
       "1004582.02"
      ]
     },
     "execution_count": 34,
     "metadata": {},
     "output_type": "execute_result"
    }
   ],
   "source": [
    "Customer_Final.loc[(Customer_Final.tran_date >= pd.to_datetime('1-1-2014', format='%d-%m-%Y')) & \n",
    "                   (Customer_Final.tran_date <= pd.to_datetime('1-3-2014', format='%d-%m-%Y')) &\n",
    "                   (Customer_Final.age >= 25) &\n",
    "                   (Customer_Final.age <= 35) , 'total_amt'].sum().round(2)"
   ]
  }
 ],
 "metadata": {
  "kernelspec": {
   "display_name": "Python 3 (ipykernel)",
   "language": "python",
   "name": "python3"
  },
  "language_info": {
   "codemirror_mode": {
    "name": "ipython",
    "version": 3
   },
   "file_extension": ".py",
   "mimetype": "text/x-python",
   "name": "python",
   "nbconvert_exporter": "python",
   "pygments_lexer": "ipython3",
   "version": "3.9.7"
  },
  "varInspector": {
   "cols": {
    "lenName": 16,
    "lenType": 16,
    "lenVar": 40
   },
   "kernels_config": {
    "python": {
     "delete_cmd_postfix": "",
     "delete_cmd_prefix": "del ",
     "library": "var_list.py",
     "varRefreshCmd": "print(var_dic_list())"
    },
    "r": {
     "delete_cmd_postfix": ") ",
     "delete_cmd_prefix": "rm(",
     "library": "var_list.r",
     "varRefreshCmd": "cat(var_dic_list()) "
    }
   },
   "types_to_exclude": [
    "module",
    "function",
    "builtin_function_or_method",
    "instance",
    "_Feature"
   ],
   "window_display": false
  }
 },
 "nbformat": 4,
 "nbformat_minor": 5
}
